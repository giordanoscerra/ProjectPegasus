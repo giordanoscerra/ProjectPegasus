{
 "cells": [
  {
   "cell_type": "code",
   "execution_count": null,
   "metadata": {},
   "outputs": [],
   "source": [
    "from utils.map import Map\n",
    "\n",
    "level = Map(pony=False)"
   ]
  },
  {
   "cell_type": "code",
   "execution_count": null,
   "metadata": {},
   "outputs": [],
   "source": [
    "#go to saddle\n",
    "level.go_to_element(element='saddle', show_steps=False, maxDistance=0, minDistance=0)\n",
    "#pickup saddle\n",
    "level.apply_action(actionName='PICKUP')\n",
    "#render level\n",
    "level.render()"
   ]
  },
  {
   "cell_type": "code",
   "execution_count": null,
   "metadata": {},
   "outputs": [],
   "source": [
    "#show inventory\n",
    "level.print_inventory()"
   ]
  },
  {
   "cell_type": "code",
   "execution_count": null,
   "metadata": {},
   "outputs": [],
   "source": [
    "#drop carrot (general to show drop action)\n",
    "level.apply_action(\"DROP\", what='carrot')\n",
    "level.render()\n",
    "level.print_inventory()"
   ]
  },
  {
   "cell_type": "code",
   "execution_count": null,
   "metadata": {},
   "outputs": [],
   "source": [
    "#drop saddle\n",
    "level.apply_action(\"DROP\", what='saddle')\n",
    "level.render()\n",
    "level.print_inventory()"
   ]
  }
 ],
 "metadata": {
  "kernelspec": {
   "display_name": "aif",
   "language": "python",
   "name": "python3"
  },
  "language_info": {
   "codemirror_mode": {
    "name": "ipython",
    "version": 3
   },
   "file_extension": ".py",
   "mimetype": "text/x-python",
   "name": "python",
   "nbconvert_exporter": "python",
   "pygments_lexer": "ipython3",
   "version": "3.8.18"
  }
 },
 "nbformat": 4,
 "nbformat_minor": 2
}
