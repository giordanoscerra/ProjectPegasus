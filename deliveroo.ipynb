{
 "cells": [
  {
   "cell_type": "code",
   "execution_count": null,
   "metadata": {},
   "outputs": [],
   "source": [
    "from utils.map import Map\n",
    "\n",
    "level = Map(pony=True)\n",
    "level.render(graphic=True)"
   ]
  },
  {
   "cell_type": "code",
   "execution_count": null,
   "metadata": {},
   "outputs": [],
   "source": [
    "#go to carrot\n",
    "level.go_to_element('carrot', show_steps=True, graphic=True, delay=0.0, maxDistance=0, minDistance=0)\n",
    "level.render(graphic=True)\n",
    "level.apply_action(actionName='PICKUP')"
   ]
  },
  {
   "cell_type": "code",
   "execution_count": null,
   "metadata": {},
   "outputs": [],
   "source": [
    "#go to pony and throw carrot\n",
    "level.go_to_element('pony', show_steps=True, graphic=True, delay=0.0)\n",
    "for i in range(10):\n",
    "    level.align_with_pony()\n",
    "    level.render(graphic=True)\n",
    "    pony_dir = level.get_pony_direction()\n",
    "    level.apply_action(actionName='THROW', what='carrot',where=pony_dir )\n",
    "level.go_to_element('saddle', show_steps=True, graphic=True, delay=0.0, maxDistance=0, minDistance=0)\n",
    "level.apply_action(actionName='PICKUP')\n",
    "level.render(graphic=True)"
   ]
  },
  {
   "cell_type": "code",
   "execution_count": null,
   "metadata": {},
   "outputs": [],
   "source": [
    "#go to pony and apply saddle\n",
    "level.go_to_element('pony', show_steps=True, graphic=True, delay=0.0, maxDistance=1, minDistance=1)\n",
    "pony_dir = level.get_pony_direction()\n",
    "level.apply_action(actionName='APPLY', what='saddle', where=pony_dir)"
   ]
  },
  {
   "cell_type": "code",
   "execution_count": null,
   "metadata": {},
   "outputs": [],
   "source": [
    "#ride pony\n",
    "level.go_to_element('pony', show_steps=True, graphic=True, delay=0.0, maxDistance=1, minDistance=1)\n",
    "pony_dir = level.get_pony_direction()\n",
    "level.apply_action(actionName='RIDE', where=pony_dir)\n",
    "level.render(graphic=True)"
   ]
  },
  {
   "cell_type": "code",
   "execution_count": null,
   "metadata": {},
   "outputs": [],
   "source": [
    "#go to stair\n",
    "level.go_to_element('stair', show_steps=True, graphic=True, delay=0.0, maxDistance=0, minDistance=0)"
   ]
  }
 ],
 "metadata": {
  "kernelspec": {
   "display_name": "aif",
   "language": "python",
   "name": "python3"
  },
  "language_info": {
   "codemirror_mode": {
    "name": "ipython",
    "version": 3
   },
   "file_extension": ".py",
   "mimetype": "text/x-python",
   "name": "python",
   "nbconvert_exporter": "python",
   "pygments_lexer": "ipython3",
   "version": "3.8.18"
  }
 },
 "nbformat": 4,
 "nbformat_minor": 2
}
