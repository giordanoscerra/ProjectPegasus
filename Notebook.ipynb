{
 "cells": [
  {
   "cell_type": "markdown",
   "id": "9d91124f",
   "metadata": {},
   "source": [
    "# ProjectPegasus"
   ]
  },
  {
   "cell_type": "markdown",
   "id": "6bd8520f",
   "metadata": {
    "vscode": {
     "languageId": "plaintext"
    }
   },
   "source": [
    "Exam project for the Artificial Intelligence Fundamentals course, a.y. 2023/2024\n",
    "\n",
    "Notebook and code by the NetRiders team: Giordano Scerra, Andrea Marino, Yuri Ermes Negri, Davide Borghini, Davide Marchi"
   ]
  },
  {
   "cell_type": "markdown",
   "id": "2fa7e9ce",
   "metadata": {
    "vscode": {
     "languageId": "plaintext"
    }
   },
   "source": [
    "---"
   ]
  },
  {
   "cell_type": "markdown",
   "id": "83bd81cd",
   "metadata": {},
   "source": [
    "## Introduction"
   ]
  },
  {
   "cell_type": "markdown",
   "id": "9ddc86d5",
   "metadata": {},
   "source": [
    "This project focuses on the task of riding a pony. To do so, the agent:\n",
    "- Picks up some carrots\n",
    "- Feeds the pony with carrots, to pacify him and increase his tameness\n",
    "- Looks for a saddle\n",
    "- Applies the saddle on the pony and rides it"
   ]
  },
  {
   "cell_type": "markdown",
   "id": "9d7dd98e",
   "metadata": {},
   "source": [
    "The one listed are not only steps that are necessary to perform the task successfully, but also *subtasks* on their own. As il will be thoroughly described later, the task is solved by selecting the most appropriate subtask and execute it. The execution of the subtask is controlled by a knowledge base."
   ]
  },
  {
   "cell_type": "markdown",
   "id": "8972ebcf",
   "metadata": {},
   "source": [
    "## Methodologies"
   ]
  },
  {
   "cell_type": "markdown",
   "id": "4dbf0548",
   "metadata": {},
   "source": [
    "Our code is structured in three main files:\n",
    "- **Map.py**: These class methods are used for the interactions with the environment: extracting information from the cells, rendering the level and making a proper step in the game (i.e. applying the actions).\n",
    "- **Agent.py**: Interacts with Map.py and the knowledge base with two methods: `percept()` and `act()`. \n",
    "    - `percept()`: reads information from the environment - using attributes from Map - and populates the knowledge base, using methods from the KBwrapper.\n",
    "    - `act()`: Queries the knowledge base for the best subtask to execute and launch the related methods.\n",
    "- **KBwrapper.py**: For the agent, its knowledge base is an instance of this class. Based on pyswip library, its methods are used to manage the \"kb.pl\" Prolog knowledge base by asserting, retracting and querying the appropriate predicates. "
   ]
  },
  {
   "cell_type": "markdown",
   "id": "c8f41f57",
   "metadata": {},
   "source": [
    "Our project is related with the course for these key topics:\n",
    "- A* search algorithm\n",
    "- Knowledge Base\n",
    "- explore di davideb?"
   ]
  },
  {
   "cell_type": "markdown",
   "id": "fd3f819f",
   "metadata": {},
   "source": [
    "### Subtasks and Interrupts"
   ]
  },
  {
   "cell_type": "markdown",
   "id": "52e8650c",
   "metadata": {},
   "source": [
    "We decided to implement an intelligent system for decision making based on interruptions. As already mentioned, the `agent.act()` queries the knowledge base for the best subtask to perform among these ones:\n",
    "- *getCarrot* : to go and collect the nearest carrot\n",
    "- *getSaddle* : to go and collect the saddle, which is necessary to ride the pony \n",
    "- *feedSteed* : to feed the the pony by throwing carrots at it\n",
    "- *applySaddle* : to apply the saddle to the pony\n",
    "- *rideSteed* : to attempt to ride the pony\n",
    "- *explore* : to explore unseen zones of the map\n",
    "\n",
    "Of course, each subtask requires to undertake a sequence of actions. After an action is performed, the knowledge base is queried again for an interruption signal, whose purpose is to notify the agent that the premises to continue that specific subtask are no longer valid and subtask switch is needed. In particular, after every step the agent makes in the environment (basically after every `env.step`), the premises for the interruption of the current subtask are checked, and if satisfied the flow of actions required to perform the subtask is interrupted. After that, the knowledge base is queried again for the best subtask to perform next. \n",
    "\n",
    "We drew inspiration for the basic functioning of the agent in our project from the *knowledge_base_agent* paradygm that we saw during the course. In fact, whenever the agent has to do an action, it firsts senses the environment by calling the `percept()` method, which acts as a TELL, then performs an action, and finally queries the knowledge base for an interruption. Hence the ASK part is done in a two-fold way by both the interruption query and by the subtask query. \n",
    "\n",
    "We thought that this approach is both necessary for the task at hand, as the environment changes repeatedly and unpredictably due to things such as the activity of the pony, and interesting to see in action.\n"
   ]
  },
  {
   "cell_type": "markdown",
   "id": "d4570c9a",
   "metadata": {},
   "source": [
    "### Knowledge Base"
   ]
  },
  {
   "cell_type": "markdown",
   "id": "0b23fee1",
   "metadata": {},
   "source": [
    "As discussed during the oral presentation, and as described in the previous paragraph, the knowledge base is where both the information is stored and the decision making process for the agent takes place. This entity itself is divided in two parts, in two different languages: Prolog and Python. In facts, Python is used as a wrapper interface to control the Prolog part, thanks to the open source library pyswip. \n",
    "The subtasks in the knowledge base are defined in order of relevance. We have:\n",
    "- getCarrot\n",
    "- feedSteed\n",
    "- getSaddle\n",
    "- applySaddle\n",
    "- explore (this subtask is chosen when no premise is satisfied for another subtask to start)\n",
    "\n",
    "After the subtask's section, in our code we have the interruption's section. Here we can find, for every subtask, its own interruption clause.\n",
    "\n",
    "Then we have some facts, like the pony's tameness assigned to 20, or the definition of a steed.\n",
    "\n",
    "Eventually, a section where we store some observations like the number of carrots or saddles in our possession, or the pony's actual tameness. \n",
    "\n",
    "In the (rare) case where the agent has no better action than 'explore' and it performs 3 full map patrols, the subtask switches to riding. This was implemented to avoid endless exploring, it's a desperate last resort option."
   ]
  },
  {
   "cell_type": "markdown",
   "id": "e470c341",
   "metadata": {},
   "source": [
    "## Assessment"
   ]
  },
  {
   "cell_type": "markdown",
   "id": "0ad45b3c",
   "metadata": {},
   "source": [
    "## Conclusions"
   ]
  },
  {
   "cell_type": "markdown",
   "id": "b4488ec8",
   "metadata": {},
   "source": [
    "## Appendix"
   ]
  },
  {
   "cell_type": "markdown",
   "id": "5ec56b87",
   "metadata": {},
   "source": []
  }
 ],
 "metadata": {
  "kernelspec": {
   "display_name": "Python 3 (ipykernel)",
   "language": "python",
   "name": "python3"
  },
  "language_info": {
   "codemirror_mode": {
    "name": "ipython",
    "version": 3
   },
   "file_extension": ".py",
   "mimetype": "text/x-python",
   "name": "python",
   "nbconvert_exporter": "python",
   "pygments_lexer": "ipython3",
   "version": "3.8.18"
  }
 },
 "nbformat": 4,
 "nbformat_minor": 5
}
